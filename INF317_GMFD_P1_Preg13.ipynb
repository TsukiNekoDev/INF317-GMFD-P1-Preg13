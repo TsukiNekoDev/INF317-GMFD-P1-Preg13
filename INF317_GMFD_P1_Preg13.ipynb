{
  "nbformat": 4,
  "nbformat_minor": 0,
  "metadata": {
    "colab": {
      "provenance": [],
      "authorship_tag": "ABX9TyONDxQ7H9DCFEYozds9aSj2",
      "include_colab_link": true
    },
    "kernelspec": {
      "name": "python3",
      "display_name": "Python 3"
    },
    "language_info": {
      "name": "python"
    }
  },
  "cells": [
    {
      "cell_type": "markdown",
      "metadata": {
        "id": "view-in-github",
        "colab_type": "text"
      },
      "source": [
        "<a href=\"https://colab.research.google.com/github/TsukiNekoDev/INF317-GMFD-P1-Preg13/blob/main/INF317_GMFD_P1_Preg13.ipynb\" target=\"_parent\"><img src=\"https://colab.research.google.com/assets/colab-badge.svg\" alt=\"Open In Colab\"/></a>"
      ]
    },
    {
      "cell_type": "markdown",
      "source": [
        "Realice el cálculo de Fibonacci con Multiprocessing de al menos1000 términos divididos por procesador de manera dinámica"
      ],
      "metadata": {
        "id": "pi8PM90qPmYO"
      }
    },
    {
      "cell_type": "code",
      "execution_count": null,
      "metadata": {
        "id": "A_QpW3H7PLsZ"
      },
      "outputs": [],
      "source": [
        "import math\n",
        "import multiprocessing as mp\n",
        "from multiprocessing import Pool\n",
        "\n",
        "def fibo(inicial, final):\n",
        "  v = []\n",
        "\n",
        "  for i in range(inicial,final):\n",
        "    p1 = (1/math.sqrt(5))*(((1+math.sqrt(5))/2)**i)\n",
        "    p2 = (1/math.sqrt(5))*(((1-math.sqrt(5))/2)**i)\n",
        "    pt = p1-p2\n",
        "    v.append(int(pt))\n",
        "  return v\n",
        "\n",
        "if __name__ == \"__main__\":\n",
        "  nterminos = 1000\n",
        "\n",
        "  if mp.cpu_count() % 2 == 0:\n",
        "    nlim = nterminos // mp.cpu_count()\n",
        "  else\n",
        "    nlim = (nterminos // mp.cpu_count())+1\n",
        "\n",
        "  parametros = [((i*nlim), (nlim*(i+1))) for i in range(mp.cpu_count())]\n",
        "  pool = Pool()\n",
        "  resultado = pool.starmap(fibo,parametros)\n",
        "\n",
        "  for i in resultado:\n",
        "    print(i)"
      ]
    }
  ]
}